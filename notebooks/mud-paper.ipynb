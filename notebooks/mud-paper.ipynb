{
 "cells": [
  {
   "cell_type": "markdown",
   "metadata": {},
   "source": [
    "# Parameter Identification With Maximal Updated Densities: Existence, Uniqueness, and Convergence\n",
    "\n",
    "___\n",
    "    \n",
    "<center>\n",
    "    Accompanying Jupyter Notebook by\n",
    "    <font color='blue'>Carlos del-Castillo-Negrete</font>\n",
    "    <br>\n",
    "    Oden Institute at UT Austin\n",
    "    <br>\n",
    "    carlos.del-castillo-negrete@utexas.edu</center>\n",
    "\n",
    "___\n",
    "\n",
    "<center>\n",
    "    Work from paper by:\n",
    "    Troy Butler, Michael Pilosov, and Tian Yu Yen at UC Denver "
   ]
  },
  {
   "cell_type": "markdown",
   "metadata": {},
   "source": [
    "Overview of Sections To Be Covered:\n",
    "\n",
    "Section 1 - Intro\n",
    "\n",
    "Section 2 - Definitions and Simple Example\n",
    "\n",
    "Section 3 - Linear MUD Points\n",
    "\n",
    "Section 4 - High Dimensional Linear Examples\n",
    "\n",
    "Section 5 - Data Constructed Maps\n"
   ]
  },
  {
   "cell_type": "markdown",
   "metadata": {},
   "source": [
    "TODO: Write Overview of Intro, And how Notebook is organized, where code is, and how to run it outside of notebook."
   ]
  },
  {
   "cell_type": "code",
   "execution_count": null,
   "metadata": {},
   "outputs": [],
   "source": [
    "# "
   ]
  }
 ],
 "metadata": {
  "kernelspec": {
   "display_name": "mud-dev",
   "language": "python",
   "name": "mud-dev"
  },
  "language_info": {
   "codemirror_mode": {
    "name": "ipython",
    "version": 3
   },
   "file_extension": ".py",
   "mimetype": "text/x-python",
   "name": "python",
   "nbconvert_exporter": "python",
   "pygments_lexer": "ipython3",
   "version": "3.9.4"
  },
  "toc-autonumbering": false,
  "toc-showmarkdowntxt": true
 },
 "nbformat": 4,
 "nbformat_minor": 4
}
